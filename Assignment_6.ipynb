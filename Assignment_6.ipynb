{
 "cells": [
  {
   "cell_type": "markdown",
   "id": "e60f713f",
   "metadata": {},
   "source": [
    "1.What are escape characters, and how do you use them?"
   ]
  },
  {
   "cell_type": "code",
   "execution_count": 3,
   "id": "18c863ec",
   "metadata": {},
   "outputs": [
    {
     "data": {
      "text/plain": [
       "'This is my first  \"Python\" tutorial.'"
      ]
     },
     "execution_count": 3,
     "metadata": {},
     "output_type": "execute_result"
    }
   ],
   "source": [
    "# To insert characters that are illegal in a string, use an escape character.\n",
    "# An escape character is a backslash \\ followed by the character you want to insert.\n",
    "\n",
    "txt = \"This is my first  \\\"Python\\\" tutorial.\"\n",
    "txt"
   ]
  },
  {
   "cell_type": "markdown",
   "id": "3e36d348",
   "metadata": {},
   "source": [
    "2.What do the escape characters n and t stand for?\n",
    "\n",
    "Ans - \\t means \tHorizontal tab\n",
    "      \\n means New line"
   ]
  },
  {
   "cell_type": "markdown",
   "id": "bd04e0fd",
   "metadata": {},
   "source": [
    "3.What is the way to include backslash characters in a string?\n",
    "\n",
    "Ans-\n",
    "The \\\\ escape character will represent a backslash character."
   ]
  },
  {
   "cell_type": "markdown",
   "id": "0e2ac848",
   "metadata": {},
   "source": [
    "4.The string \"Howl's Moving Castle\" is a correct value. Why isn't the single quote character in the\n",
    "word Howl's not escaped a problem?\n",
    "\n",
    "Ans - \n",
    " The single quote in Howl's is fine because you've used double quotes to mark the beginning and end of the string."
   ]
  },
  {
   "cell_type": "markdown",
   "id": "8d39b2db",
   "metadata": {},
   "source": [
    "5.How do you write a string of newlines if you don't want to use the n character?"
   ]
  },
  {
   "cell_type": "code",
   "execution_count": 1,
   "id": "40ece67f",
   "metadata": {},
   "outputs": [
    {
     "name": "stdout",
     "output_type": "stream",
     "text": [
      "I am learning Python.\n",
      "I love Software Testing Material.\n",
      "Best site to learn Python.\n"
     ]
    }
   ],
   "source": [
    "## Multiline strings allow you to use newlines in strings without the \\n escape character.b\n",
    "\n",
    "x = \"\"\"I am learning Python.\n",
    "I love Software Testing Material.\n",
    "Best site to learn Python.\"\"\"\n",
    "print(x)\n"
   ]
  },
  {
   "cell_type": "markdown",
   "id": "cf122da8",
   "metadata": {},
   "source": [
    "6.What are the values of the given expressions?\n",
    "'Hello ,world!'[1]\n",
    "'Hello ,world!'[0:5]\n",
    "'Hello ,world!'[:5]\n",
    "'Hello ,world!'[3:]"
   ]
  },
  {
   "cell_type": "code",
   "execution_count": 2,
   "id": "4dd3a410",
   "metadata": {
    "scrolled": true
   },
   "outputs": [
    {
     "data": {
      "text/plain": [
       "'e'"
      ]
     },
     "execution_count": 2,
     "metadata": {},
     "output_type": "execute_result"
    }
   ],
   "source": [
    "'Hello ,world!'[1]"
   ]
  },
  {
   "cell_type": "code",
   "execution_count": 3,
   "id": "b9202fe1",
   "metadata": {
    "scrolled": true
   },
   "outputs": [
    {
     "data": {
      "text/plain": [
       "'Hello'"
      ]
     },
     "execution_count": 3,
     "metadata": {},
     "output_type": "execute_result"
    }
   ],
   "source": [
    "'Hello ,world!'[0:5]"
   ]
  },
  {
   "cell_type": "code",
   "execution_count": 5,
   "id": "6d9814c6",
   "metadata": {},
   "outputs": [
    {
     "data": {
      "text/plain": [
       "'Hello'"
      ]
     },
     "execution_count": 5,
     "metadata": {},
     "output_type": "execute_result"
    }
   ],
   "source": [
    "'Hello ,world!'[:5]"
   ]
  },
  {
   "cell_type": "code",
   "execution_count": 6,
   "id": "81a7164f",
   "metadata": {},
   "outputs": [
    {
     "data": {
      "text/plain": [
       "'lo ,world!'"
      ]
     },
     "execution_count": 6,
     "metadata": {},
     "output_type": "execute_result"
    }
   ],
   "source": [
    "'Hello ,world!'[3:]"
   ]
  },
  {
   "cell_type": "markdown",
   "id": "fc6d9a17",
   "metadata": {},
   "source": [
    "7.What are the values of the following expressions?\n",
    "'Hello'.upper()\n",
    "'Hello'.upper().isupper()\n",
    "'Hello'.upper().lower()"
   ]
  },
  {
   "cell_type": "code",
   "execution_count": 7,
   "id": "5dc4936f",
   "metadata": {
    "scrolled": true
   },
   "outputs": [
    {
     "data": {
      "text/plain": [
       "'HELLO'"
      ]
     },
     "execution_count": 7,
     "metadata": {},
     "output_type": "execute_result"
    }
   ],
   "source": [
    "'Hello'.upper()"
   ]
  },
  {
   "cell_type": "code",
   "execution_count": 8,
   "id": "1c4a55c2",
   "metadata": {
    "scrolled": true
   },
   "outputs": [
    {
     "data": {
      "text/plain": [
       "True"
      ]
     },
     "execution_count": 8,
     "metadata": {},
     "output_type": "execute_result"
    }
   ],
   "source": [
    "'Hello'.upper().isupper()"
   ]
  },
  {
   "cell_type": "code",
   "execution_count": 9,
   "id": "d629edb9",
   "metadata": {},
   "outputs": [
    {
     "data": {
      "text/plain": [
       "'hello'"
      ]
     },
     "execution_count": 9,
     "metadata": {},
     "output_type": "execute_result"
    }
   ],
   "source": [
    "'Hello'.upper().lower()"
   ]
  },
  {
   "cell_type": "markdown",
   "id": "ba5f77ee",
   "metadata": {},
   "source": [
    "8.What are the values of the following expressions?\n",
    "'Remember, remember, the fifth of July.'.split()\n",
    "'_'.join ('There can only one.'.split())"
   ]
  },
  {
   "cell_type": "code",
   "execution_count": 10,
   "id": "395b3695",
   "metadata": {},
   "outputs": [
    {
     "data": {
      "text/plain": [
       "['Remember,', 'remember,', 'the', 'fifth', 'of', 'July.']"
      ]
     },
     "execution_count": 10,
     "metadata": {},
     "output_type": "execute_result"
    }
   ],
   "source": [
    "'Remember, remember, the fifth of July.'.split()"
   ]
  },
  {
   "cell_type": "code",
   "execution_count": 11,
   "id": "ad90004a",
   "metadata": {},
   "outputs": [
    {
     "data": {
      "text/plain": [
       "'There_can_only_one.'"
      ]
     },
     "execution_count": 11,
     "metadata": {},
     "output_type": "execute_result"
    }
   ],
   "source": [
    "'_'.join ('There can only one.'.split())"
   ]
  },
  {
   "cell_type": "markdown",
   "id": "283dfd39",
   "metadata": {},
   "source": [
    "9.What are the methods for right-justifying, left-justifying, and centering a string?\n",
    "\n",
    "Ans-\n",
    "The rjust(), ljust(), and center() string methods used."
   ]
  },
  {
   "cell_type": "markdown",
   "id": "b5f43f80",
   "metadata": {},
   "source": [
    "10.What is the best way to remove whitespace characters from the start or end?\n",
    "\n",
    "Ans-\n",
    "The lstrip() and rstrip() methods remove whitespace from the left and right ends of a string."
   ]
  }
 ],
 "metadata": {
  "kernelspec": {
   "display_name": "Python 3 (ipykernel)",
   "language": "python",
   "name": "python3"
  },
  "language_info": {
   "codemirror_mode": {
    "name": "ipython",
    "version": 3
   },
   "file_extension": ".py",
   "mimetype": "text/x-python",
   "name": "python",
   "nbconvert_exporter": "python",
   "pygments_lexer": "ipython3",
   "version": "3.9.7"
  }
 },
 "nbformat": 4,
 "nbformat_minor": 5
}
